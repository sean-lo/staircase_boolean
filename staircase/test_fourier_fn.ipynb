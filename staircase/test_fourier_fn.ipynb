{
 "cells": [
  {
   "cell_type": "code",
   "execution_count": 59,
   "outputs": [],
   "source": [
    "from utils import (\n",
    "    eval_fourier_tuple,\n",
    "    convert_fourier_fn_to_eval_fn,\n",
    "    convert_fourier_fn_to_fourier_tuples,\n",
    "    get_parity_fourier_fn,\n",
    "    get_staircase_fourier_fn,\n",
    "    get_complete_staircase_fourier_fn,\n",
    "    get_complete_clipped_staircase_fourier_fn,\n",
    "    get_msp_example_fourier_fn,\n",
    "    get_half_msp_example_fourier_fn,\n",
    "    get_random_staircase_fourier_fn,\n",
    ")\n",
    "import itertools"
   ],
   "metadata": {
    "collapsed": false,
    "ExecuteTime": {
     "end_time": "2023-12-06T01:33:59.044236Z",
     "start_time": "2023-12-06T01:33:59.042037Z"
    }
   },
   "id": "c3814d147aaa4aa3"
  },
  {
   "cell_type": "code",
   "execution_count": 2,
   "outputs": [
    {
     "data": {
      "text/plain": "{(0, 1, 2, 3): 1}"
     },
     "execution_count": 2,
     "metadata": {},
     "output_type": "execute_result"
    }
   ],
   "source": [
    "get_parity_fourier_fn(4)"
   ],
   "metadata": {
    "collapsed": false,
    "ExecuteTime": {
     "end_time": "2023-12-06T01:19:58.746178Z",
     "start_time": "2023-12-06T01:19:58.743580Z"
    }
   },
   "id": "4dba082de4b6874c"
  },
  {
   "cell_type": "code",
   "execution_count": 3,
   "outputs": [
    {
     "data": {
      "text/plain": "{(0,): 1, (0, 1): 1, (0, 1, 2): 1, (0, 1, 2, 3): 1}"
     },
     "execution_count": 3,
     "metadata": {},
     "output_type": "execute_result"
    }
   ],
   "source": [
    "get_staircase_fourier_fn(4)"
   ],
   "metadata": {
    "collapsed": false,
    "ExecuteTime": {
     "end_time": "2023-12-06T01:19:59.550098Z",
     "start_time": "2023-12-06T01:19:59.542892Z"
    }
   },
   "id": "c4c7dd8ffa7e616"
  },
  {
   "cell_type": "code",
   "execution_count": 4,
   "outputs": [
    {
     "data": {
      "text/plain": "{(0,): 1,\n (1,): 1,\n (2,): 1,\n (3,): 1,\n (0, 1): 1,\n (0, 2): 1,\n (0, 3): 1,\n (1, 2): 1,\n (1, 3): 1,\n (2, 3): 1,\n (0, 1, 2): 1,\n (0, 1, 3): 1,\n (0, 2, 3): 1,\n (1, 2, 3): 1,\n (0, 1, 2, 3): 1}"
     },
     "execution_count": 4,
     "metadata": {},
     "output_type": "execute_result"
    }
   ],
   "source": [
    "get_complete_staircase_fourier_fn(4)"
   ],
   "metadata": {
    "collapsed": false,
    "ExecuteTime": {
     "end_time": "2023-12-06T01:20:00.401546Z",
     "start_time": "2023-12-06T01:20:00.397506Z"
    }
   },
   "id": "8d0bfc8c4c283d7"
  },
  {
   "cell_type": "code",
   "execution_count": 5,
   "outputs": [
    {
     "data": {
      "text/plain": "{(0,): 1,\n (1,): 1,\n (2,): 1,\n (3,): 1,\n (0, 1): 1,\n (0, 2): 1,\n (0, 3): 1,\n (1, 2): 1,\n (1, 3): 1,\n (2, 3): 1,\n (0, 1, 2): 1,\n (0, 1, 3): 1,\n (0, 2, 3): 1,\n (1, 2, 3): 1}"
     },
     "execution_count": 5,
     "metadata": {},
     "output_type": "execute_result"
    }
   ],
   "source": [
    "get_complete_clipped_staircase_fourier_fn(4)"
   ],
   "metadata": {
    "collapsed": false,
    "ExecuteTime": {
     "end_time": "2023-12-06T01:20:01.138526Z",
     "start_time": "2023-12-06T01:20:01.135671Z"
    }
   },
   "id": "48f009534a097c73"
  },
  {
   "cell_type": "code",
   "execution_count": 6,
   "outputs": [
    {
     "data": {
      "text/plain": "{(0,): 1, (1,): 1, (2,): 1, (3,): 1, (0, 1, 2, 3): 1}"
     },
     "execution_count": 6,
     "metadata": {},
     "output_type": "execute_result"
    }
   ],
   "source": [
    "get_msp_example_fourier_fn(4)"
   ],
   "metadata": {
    "collapsed": false,
    "ExecuteTime": {
     "end_time": "2023-12-06T01:20:04.244329Z",
     "start_time": "2023-12-06T01:20:04.240565Z"
    }
   },
   "id": "bf525cc0e4810b6"
  },
  {
   "cell_type": "code",
   "execution_count": 7,
   "outputs": [
    {
     "data": {
      "text/plain": "{(0,): 1,\n (1,): 1,\n (2,): 1,\n (3,): 1,\n (0, 1): 1,\n (1, 2): 1,\n (2, 3): 1,\n (0, 1, 2, 3): 1}"
     },
     "execution_count": 7,
     "metadata": {},
     "output_type": "execute_result"
    }
   ],
   "source": [
    "get_half_msp_example_fourier_fn(4)"
   ],
   "metadata": {
    "collapsed": false,
    "ExecuteTime": {
     "end_time": "2023-12-06T01:20:05.306573Z",
     "start_time": "2023-12-06T01:20:05.303109Z"
    }
   },
   "id": "dfdb47936b140fdf"
  },
  {
   "cell_type": "code",
   "execution_count": 8,
   "outputs": [
    {
     "data": {
      "text/plain": "{(0,): 1,\n (1,): 1,\n (2,): 1,\n (3,): 1,\n (4,): 1,\n (5,): 1,\n (6,): 1,\n (7,): 1,\n (0, 1, 2, 3): 1,\n (1, 2, 3, 4): 1,\n (2, 3, 4, 5): 1,\n (3, 4, 5, 6): 1,\n (4, 5, 6, 7): 1,\n (0, 1, 2, 3, 4, 5, 6, 7): 1}"
     },
     "execution_count": 8,
     "metadata": {},
     "output_type": "execute_result"
    }
   ],
   "source": [
    "get_half_msp_example_fourier_fn(8)\n"
   ],
   "metadata": {
    "collapsed": false,
    "ExecuteTime": {
     "end_time": "2023-12-06T01:20:06.088400Z",
     "start_time": "2023-12-06T01:20:06.085661Z"
    }
   },
   "id": "c160b15f8642daa5"
  },
  {
   "cell_type": "code",
   "execution_count": 25,
   "outputs": [
    {
     "data": {
      "text/plain": "False"
     },
     "execution_count": 25,
     "metadata": {},
     "output_type": "execute_result"
    }
   ],
   "source": [
    "import random"
   ],
   "metadata": {
    "collapsed": false,
    "ExecuteTime": {
     "end_time": "2023-12-06T01:22:18.872463Z",
     "start_time": "2023-12-06T01:22:18.869052Z"
    }
   },
   "id": "624eee52bddd0d18"
  },
  {
   "cell_type": "code",
   "execution_count": null,
   "outputs": [],
   "source": [],
   "metadata": {
    "collapsed": false
   },
   "id": "a97faef798ce386"
  },
  {
   "cell_type": "code",
   "execution_count": 66,
   "outputs": [],
   "source": [],
   "metadata": {
    "collapsed": false,
    "ExecuteTime": {
     "end_time": "2023-12-06T01:34:58.598566Z",
     "start_time": "2023-12-06T01:34:58.594509Z"
    }
   },
   "id": "dc033344ccf70934"
  },
  {
   "cell_type": "code",
   "execution_count": 70,
   "outputs": [
    {
     "data": {
      "text/plain": "{(0,): 1,\n (0, 1): 1,\n (2,): 1,\n (2, 3): 1,\n (4,): 1,\n (4, 5): 1,\n (4, 6): 1,\n (4, 7): 1,\n (4, 5, 6): 1,\n (4, 5, 7): 1}"
     },
     "execution_count": 70,
     "metadata": {},
     "output_type": "execute_result"
    }
   ],
   "source": [
    "get_random_staircase_fourier_fn(0, 8)"
   ],
   "metadata": {
    "collapsed": false,
    "ExecuteTime": {
     "end_time": "2023-12-06T01:35:41.398255Z",
     "start_time": "2023-12-06T01:35:41.389380Z"
    }
   },
   "id": "565f6187e4ca6ad7"
  },
  {
   "cell_type": "code",
   "execution_count": 1,
   "outputs": [],
   "source": [
    "import pickle "
   ],
   "metadata": {
    "collapsed": false,
    "ExecuteTime": {
     "end_time": "2023-12-06T04:26:43.090419Z",
     "start_time": "2023-12-06T04:26:43.064760Z"
    }
   },
   "id": "607277b7a4902ffe"
  },
  {
   "cell_type": "code",
   "execution_count": 2,
   "outputs": [
    {
     "data": {
      "text/plain": "{(0,): 1,\n (0, 1): 1,\n (2,): 1,\n (2, 3): 1,\n (0, 4): 1,\n (0, 5): 1,\n (0, 6): 1,\n (0, 6, 7): 1,\n (0, 1, 4): 1,\n (0, 1, 5): 1,\n (0, 1, 6): 1,\n (0, 1, 6, 7): 1,\n (2, 4): 1,\n (2, 5): 1,\n (2, 6): 1,\n (2, 6, 7): 1,\n (2, 3, 4): 1,\n (2, 3, 5): 1,\n (2, 3, 6): 1,\n (2, 3, 6, 7): 1}"
     },
     "execution_count": 2,
     "metadata": {},
     "output_type": "execute_result"
    }
   ],
   "source": [
    "pickle.load(open(\"experiments/fourier_fns/6.pkl\", \"rb\"))"
   ],
   "metadata": {
    "collapsed": false,
    "ExecuteTime": {
     "end_time": "2023-12-06T04:27:00.865703Z",
     "start_time": "2023-12-06T04:27:00.862743Z"
    }
   },
   "id": "f4fb078ff319cde4"
  },
  {
   "cell_type": "code",
   "execution_count": null,
   "outputs": [],
   "source": [],
   "metadata": {
    "collapsed": false
   },
   "id": "536697c6cd816c74"
  }
 ],
 "metadata": {
  "kernelspec": {
   "display_name": "Python 3",
   "language": "python",
   "name": "python3"
  },
  "language_info": {
   "codemirror_mode": {
    "name": "ipython",
    "version": 2
   },
   "file_extension": ".py",
   "mimetype": "text/x-python",
   "name": "python",
   "nbconvert_exporter": "python",
   "pygments_lexer": "ipython2",
   "version": "2.7.6"
  }
 },
 "nbformat": 4,
 "nbformat_minor": 5
}
